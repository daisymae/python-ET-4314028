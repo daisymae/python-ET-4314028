{
 "cells": [
  {
   "cell_type": "code",
   "id": "48a15793",
   "metadata": {
    "scrolled": true,
    "ExecuteTime": {
     "end_time": "2025-09-07T02:40:36.437672Z",
     "start_time": "2025-09-07T02:40:36.433036Z"
    }
   },
   "source": [
    "import threading\n",
    "import time"
   ],
   "outputs": [],
   "execution_count": 1
  },
  {
   "cell_type": "markdown",
   "id": "5be113b0",
   "metadata": {},
   "source": [
    "## Threads"
   ]
  },
  {
   "cell_type": "code",
   "id": "230c796a",
   "metadata": {
    "scrolled": true,
    "ExecuteTime": {
     "end_time": "2025-09-07T02:40:41.704865Z",
     "start_time": "2025-09-07T02:40:36.693036Z"
    }
   },
   "source": [
    "def longSquare(num):\n",
    "    time.sleep(1)\n",
    "    return num**2\n",
    "\n",
    "[longSquare(n) for n in range(0, 5)]\n"
   ],
   "outputs": [
    {
     "data": {
      "text/plain": [
       "[0, 1, 4, 9, 16]"
      ]
     },
     "execution_count": 2,
     "metadata": {},
     "output_type": "execute_result"
    }
   ],
   "execution_count": 2
  },
  {
   "cell_type": "code",
   "id": "f105891d",
   "metadata": {
    "ExecuteTime": {
     "end_time": "2025-09-07T02:40:43.081115Z",
     "start_time": "2025-09-07T02:40:42.074612Z"
    }
   },
   "source": [
    "t1 = threading.Thread(target=longSquare, args=(1,))\n",
    "t2 = threading.Thread(target=longSquare, args=(2,))\n",
    "\n",
    "t1.start()\n",
    "t2.start()\n",
    "\n",
    "t1.join()\n",
    "t2.join()\n"
   ],
   "outputs": [],
   "execution_count": 3
  },
  {
   "cell_type": "code",
   "id": "5be33021",
   "metadata": {
    "ExecuteTime": {
     "end_time": "2025-09-07T02:40:44.243661Z",
     "start_time": "2025-09-07T02:40:43.231235Z"
    }
   },
   "source": [
    "\n",
    "\n",
    "def longSquare(num, results):\n",
    "    time.sleep(1)\n",
    "    results[num] = num**2\n",
    "\n",
    "results = {}\n",
    "t1 = threading.Thread(target=longSquare, args=(1,results))\n",
    "t2 = threading.Thread(target=longSquare, args=(2,results))\n",
    "\n",
    "t1.start()\n",
    "t2.start()\n",
    "\n",
    "t1.join()\n",
    "t2.join()\n",
    "\n",
    "print(results)\n"
   ],
   "outputs": [
    {
     "name": "stdout",
     "output_type": "stream",
     "text": [
      "{1: 1, 2: 4}\n"
     ]
    }
   ],
   "execution_count": 4
  },
  {
   "cell_type": "code",
   "id": "6f9a6201",
   "metadata": {
    "ExecuteTime": {
     "end_time": "2025-09-07T02:40:45.389400Z",
     "start_time": "2025-09-07T02:40:44.352996Z"
    }
   },
   "source": [
    "\n",
    "\n",
    "def longSquare(num, results):\n",
    "    time.sleep(1)\n",
    "    results[num] = num**2\n",
    "\n",
    "results = {}\n",
    "threads = [threading.Thread(target=longSquare, args=(n, results)) for n in range(0, 100)]\n",
    "[t.start() for t in threads]\n",
    "[t.join() for t in threads]\n",
    "print(results)\n"
   ],
   "outputs": [
    {
     "name": "stdout",
     "output_type": "stream",
     "text": [
      "{0: 0, 1: 1, 2: 4, 3: 9, 4: 16, 5: 25, 6: 36, 7: 49, 8: 64, 9: 81, 10: 100, 11: 121, 13: 169, 12: 144, 14: 196, 15: 225, 16: 256, 17: 289, 18: 324, 19: 361, 21: 441, 20: 400, 23: 529, 22: 484, 25: 625, 24: 576, 27: 729, 26: 676, 30: 900, 29: 841, 28: 784, 32: 1024, 33: 1089, 31: 961, 35: 1225, 34: 1156, 37: 1369, 38: 1444, 36: 1296, 39: 1521, 40: 1600, 42: 1764, 41: 1681, 43: 1849, 44: 1936, 45: 2025, 47: 2209, 46: 2116, 49: 2401, 50: 2500, 48: 2304, 51: 2601, 52: 2704, 53: 2809, 54: 2916, 55: 3025, 57: 3249, 56: 3136, 59: 3481, 58: 3364, 61: 3721, 60: 3600, 63: 3969, 64: 4096, 62: 3844, 65: 4225, 67: 4489, 66: 4356, 68: 4624, 69: 4761, 71: 5041, 70: 4900, 73: 5329, 72: 5184, 74: 5476, 75: 5625, 78: 6084, 76: 5776, 77: 5929, 79: 6241, 80: 6400, 83: 6889, 82: 6724, 81: 6561, 85: 7225, 84: 7056, 87: 7569, 86: 7396, 88: 7744, 90: 8100, 89: 7921, 92: 8464, 91: 8281, 94: 8836, 95: 9025, 93: 8649, 97: 9409, 96: 9216, 98: 9604, 99: 9801}\n"
     ]
    }
   ],
   "execution_count": 5
  },
  {
   "cell_type": "code",
   "execution_count": null,
   "id": "c63a0969",
   "metadata": {},
   "outputs": [],
   "source": []
  }
 ],
 "metadata": {
  "kernelspec": {
   "display_name": "Python 3 (ipykernel)",
   "language": "python",
   "name": "python3"
  },
  "language_info": {
   "codemirror_mode": {
    "name": "ipython",
    "version": 3
   },
   "file_extension": ".py",
   "mimetype": "text/x-python",
   "name": "python",
   "nbconvert_exporter": "python",
   "pygments_lexer": "ipython3",
   "version": "3.10.2"
  }
 },
 "nbformat": 4,
 "nbformat_minor": 5
}
