{
 "cells": [
  {
   "cell_type": "code",
   "id": "34fcf0b8",
   "metadata": {
    "ExecuteTime": {
     "end_time": "2025-09-07T03:30:44.557076Z",
     "start_time": "2025-09-07T03:30:44.553332Z"
    }
   },
   "source": [
    "# using multiprocessing in the same file can cause\n",
    "# issues; thus should use third-party module\n",
    "# `multiprocess`\n",
    "# However, even though I did a `pip install multiprocess`, it's not finding Process\n",
    "from multiprocess import Process\n",
    "import time\n",
    "import threading"
   ],
   "outputs": [],
   "execution_count": 17
  },
  {
   "metadata": {
    "ExecuteTime": {
     "end_time": "2025-09-07T03:30:46.738718Z",
     "start_time": "2025-09-07T03:30:46.523503Z"
    }
   },
   "cell_type": "code",
   "source": [
    "def long_square(num, results):\n",
    "    time.sleep(1)\n",
    "    print('HERE!')\n",
    "    print(num**2)\n",
    "    print('Finished computing!')\n",
    "\n",
    "results = {}\n",
    "if __name__ == '__main__':\n",
    "    p1 = Process(target=long_square, args=(1, results))\n",
    "    p2 = Process(target=long_square, args=(2, results))\n",
    "\n",
    "    p1.start()\n",
    "    p2.start()\n",
    "\n",
    "    p1.join()\n",
    "    p2.join()\n",
    "\n",
    "    print(results)\n"
   ],
   "id": "325821d47d2d94f3",
   "outputs": [
    {
     "name": "stdout",
     "output_type": "stream",
     "text": [
      "{}\n"
     ]
    }
   ],
   "execution_count": 18
  },
  {
   "cell_type": "markdown",
   "id": "b9bc0c6f",
   "metadata": {},
   "source": [
    "## Processes"
   ]
  },
  {
   "cell_type": "code",
   "id": "37273e14",
   "metadata": {
    "ExecuteTime": {
     "end_time": "2025-09-07T03:09:18.652243Z",
     "start_time": "2025-09-07T03:09:18.168149Z"
    }
   },
   "source": [
    "def long_square(num, results):\n",
    "    time.sleep(1)\n",
    "    print(num**2)\n",
    "    print('Finished computing!')\n",
    "\n",
    "results = {}\n",
    "# This creates 10 processes\n",
    "processes = [Process(target=long_square, args=(n, results)) for n in range(0, 10)]\n",
    "[p.start() for p in processes]\n",
    "[p.join() for p in processes]\n",
    "\n",
    "\n"
   ],
   "outputs": [
    {
     "data": {
      "text/plain": [
       "[None, None, None, None, None, None, None, None, None, None]"
      ]
     },
     "execution_count": 8,
     "metadata": {},
     "output_type": "execute_result"
    }
   ],
   "execution_count": 8
  },
  {
   "cell_type": "code",
   "execution_count": 9,
   "id": "ee636997",
   "metadata": {},
   "outputs": [
    {
     "name": "stdout",
     "output_type": "stream",
     "text": [
      "9163625496481\n",
      "Finished computing!\n",
      "14\n",
      "\n",
      "Finished computing!\n",
      "\n",
      "Finished computing!\n",
      "Finished computing!\n",
      "\n",
      "\n",
      "\n",
      "Finished computing!\n",
      "Finished computing!\n",
      "0Finished computing!\n",
      "Finished computing!\n",
      "\n",
      "\n",
      "Finished computing!\n",
      "Finished computing!\n",
      "\n",
      "{}\n"
     ]
    }
   ],
   "source": [
    "results = {}\n",
    "threads = [threading.Thread(target=long_square, args=(n, results)) for n in range(0, 10)]\n",
    "[t.start() for t in threads]\n",
    "[t.join() for t in threads]\n",
    "print(results)"
   ]
  },
  {
   "cell_type": "code",
   "execution_count": null,
   "id": "129b1aa4",
   "metadata": {},
   "outputs": [],
   "source": []
  }
 ],
 "metadata": {
  "kernelspec": {
   "display_name": "Python 3 (ipykernel)",
   "language": "python",
   "name": "python3"
  },
  "language_info": {
   "codemirror_mode": {
    "name": "ipython",
    "version": 3
   },
   "file_extension": ".py",
   "mimetype": "text/x-python",
   "name": "python",
   "nbconvert_exporter": "python",
   "pygments_lexer": "ipython3",
   "version": "3.10.2"
  }
 },
 "nbformat": 4,
 "nbformat_minor": 5
}
